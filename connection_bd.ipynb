{
 "cells": [
  {
   "cell_type": "code",
   "execution_count": 1,
   "metadata": {},
   "outputs": [],
   "source": [
    "import sys\n",
    "import os\n",
    "from pathlib import Path\n",
    "\n",
    "import rasterio\n",
    "from rasterio.plot import show\n",
    "import matplotlib.pyplot as plt\n",
    "import numpy as np\n",
    "import geopandas as gpd\n",
    "# gdal\n",
    "#pyproj \n",
    "%load_ext autoreload\n",
    "%autoreload 2\n",
    "\n",
    "sys.path.append(os.path.abspath(\"src\"))\n",
    "\n",
    "from sat_image_reader import SatImageReader\n",
    "from classes_reader import ClassesReader\n"
   ]
  },
  {
   "cell_type": "code",
   "execution_count": 2,
   "metadata": {},
   "outputs": [],
   "source": [
    "PATH_DATA = \"../../../../tsi/data_education/fil_rouge_Airbus_2025/dynamic_earth_net/\""
   ]
  },
  {
   "cell_type": "code",
   "execution_count": 3,
   "metadata": {},
   "outputs": [
    {
     "data": {
      "text/plain": [
       "['planet.29N',\n",
       " 'planet.52N',\n",
       " 'planet.35S',\n",
       " 'dynamicearthnet_test_labels',\n",
       " 'planet.46N',\n",
       " 'planet.44N',\n",
       " 'LICENSE',\n",
       " 'labels',\n",
       " 'planet.32N',\n",
       " 'planet.13N',\n",
       " 'planet.60S',\n",
       " 'planet.31N',\n",
       " 'planet.43N',\n",
       " 'planet.35N',\n",
       " 'planet.34N',\n",
       " 'planet.48N',\n",
       " 'planet.38S',\n",
       " 'planet.36N',\n",
       " 'planet.56S',\n",
       " 'planet.47N',\n",
       " 'planet.38N',\n",
       " 'planet.20S',\n",
       " 'planet.54S',\n",
       " 'planet.20N',\n",
       " 'planet.34S',\n",
       " 'planet.18N',\n",
       " 'sentinel1',\n",
       " 'planet.50S',\n",
       " 'planet.16N',\n",
       " 'planet.19S',\n",
       " 'planet.50N',\n",
       " 'planet.11N',\n",
       " 'planet.22S',\n",
       " 'checksums.sha512',\n",
       " 'planet.17N',\n",
       " 'planet.10N',\n",
       " 'sentinel2',\n",
       " 'planet.33S',\n",
       " 'planet.39N',\n",
       " 'planet.54N',\n",
       " 'planet.21S',\n",
       " 'planet.49N',\n",
       " 'planet.30N',\n",
       " 'planet.15N',\n",
       " 'planet.33N']"
      ]
     },
     "execution_count": 3,
     "metadata": {},
     "output_type": "execute_result"
    }
   ],
   "source": [
    "os.listdir(PATH_DATA)"
   ]
  },
  {
   "cell_type": "code",
   "execution_count": 10,
   "metadata": {},
   "outputs": [
    {
     "data": {
      "text/plain": [
       "['1286_2921_13']"
      ]
     },
     "execution_count": 10,
     "metadata": {},
     "output_type": "execute_result"
    }
   ],
   "source": [
    "os.listdir(PATH_DATA + \"planet.10N/planet/10N/\")\n",
    "\n",
    "os.listdir(PATH_DATA + \"planet.10N/planet/10N/19E-211N/\")"
   ]
  },
  {
   "cell_type": "code",
   "execution_count": 20,
   "metadata": {},
   "outputs": [
    {
     "data": {
      "text/plain": [
       "55"
      ]
     },
     "execution_count": 20,
     "metadata": {},
     "output_type": "execute_result"
    }
   ],
   "source": [
    "labels = os.listdir(PATH_DATA + \"labels/labels/\")\n",
    "\n",
    "\n",
    "len(labels)"
   ]
  },
  {
   "cell_type": "code",
   "execution_count": 23,
   "metadata": {},
   "outputs": [],
   "source": [
    "test_labels = os.listdir(PATH_DATA + \"dynamicearthnet_test_labels\")\n"
   ]
  },
  {
   "cell_type": "code",
   "execution_count": 25,
   "metadata": {},
   "outputs": [
    {
     "name": "stdout",
     "output_type": "stream",
     "text": [
      "22\n",
      "ok\n"
     ]
    }
   ],
   "source": [
    "print(len(test_labels))\n",
    "for x in test_labels:\n",
    "    if '1286' in x:\n",
    "        print(\"ok\")"
   ]
  },
  {
   "cell_type": "code",
   "execution_count": 36,
   "metadata": {},
   "outputs": [
    {
     "name": "stdout",
     "output_type": "stream",
     "text": [
      "29N/8E-36N/3830_3914_13/PF-SR\n",
      "52N/20E-168N/7026_3201_13/PF-SR\n",
      "35S/32E-409N/4768_4131_13/PF-SR\n",
      "46N/19E-117N/6204_3495_13/PF-SR\n",
      "44N/30E-106N/5989_3554_13/PF-SR\n",
      "44N/15E-32N/5912_3937_13/PF-SR\n",
      "44N/18E-76N/5926_3715_13/PF-SR\n",
      "32N/8E-25N/4240_3972_13/PF-SR\n",
      "32N/14E-212N/4254_2915_13/PF-SR\n",
      "13N/19E-184N/1700_3100_13/PF-SR\n",
      "60S/13E-245N/8077_5007_13/PF-SR\n",
      "31N/15E-201N/4127_2991_13/PF-SR\n",
      "31N/21E-30N/4169_3944_13/PF-SR\n",
      "31N/30E-161N/4223_3246_13/PF-SR\n",
      "43N/11E-97N/5754_3601_13/PF-SR\n",
      "43N/32E-59N/5863_3800_13/PF-SR\n",
      "43N/26E-52N/5830_3834_13/PF-SR\n",
      "35N/16E-278N/4666_2369_13/PF-SR\n",
      "34N/17E-147N/4553_3325_13/PF-SR\n",
      "34N/28E-175N/4622_3159_13/PF-SR\n",
      "48N/17E-141N/6468_3360_13/PF-SR\n",
      "48N/17E-138N/6466_3380_13/PF-SR\n",
      "48N/19E-141N/6475_3361_13/PF-SR\n",
      "38S/19E-324N/5111_4560_13/PF-SR\n",
      "36N/22E-1N/4856_4087_13/PF-SR\n",
      "36N/13E-100N/4806_3588_13/PF-SR\n",
      "36N/9E-138N/4780_3377_13/PF-SR\n",
      "36N/19E-115N/4838_3506_13/PF-SR\n",
      "36N/26E-144N/4881_3344_13/PF-SR\n",
      "36N/9E-35N/4791_3920_13/PF-SR\n",
      "56S/10E-251N/7513_4968_13/PF-SR\n",
      "56S/10E-261N/7517_4908_13/PF-SR\n",
      "47N/21E-86N/6353_3661_13/PF-SR\n",
      "47N/27E-82N/6381_3681_13/PF-SR\n",
      "38N/22E-9N/5125_4049_13/PF-SR\n",
      "20S/13E-372N/2624_4314_13/PF-SR\n",
      "54S/30E-238N/7367_5050_13/PF-SR\n",
      "20N/27E-76N/2697_3715_13/PF-SR\n",
      "34S/10E-393N/4523_4210_13/PF-SR\n",
      "18N/24E-187N/2415_3082_13/PF-SR\n",
      "50S/34E-412N/6824_4117_13/PF-SR\n",
      "16N/11E-89N/2065_3647_13/PF-SR\n",
      "19S/7E-354N/2459_4406_13/PF-SR\n",
      "19S/11E-241N/2470_5030_13/PF-SR\n",
      "19S/21E-313N/2528_4620_13/PF-SR\n",
      "19S/29E-333N/2569_4513_13/PF-SR\n",
      "50N/15E-129N/6730_3430_13/PF-SR\n",
      "50N/19E-182N/6752_3115_13/PF-SR\n",
      "50N/30E-120N/6810_3478_13/PF-SR\n",
      "50N/19E-184N/6752_3104_13/PF-SR\n",
      "50N/30E-149N/6813_3313_13/PF-SR\n",
      "50N/21E-180N/6761_3129_13/PF-SR\n",
      "11N/18E-155N/1417_3281_13/PF-SR\n",
      "11N/30E-146N/1487_3335_13/PF-SR\n",
      "22S/34E-380N/3002_4273_13/PF-SR\n",
      "17N/17E-134N/2235_3403_13/PF-SR\n",
      "17N/9E-42N/2196_3885_13/PF-SR\n",
      "10N/19E-211N/1286_2921_13/PF-SR\n",
      "10N/26E-183N/1330_3107_13/PF-SR\n",
      "10N/23E-188N/1311_3077_13/PF-SR\n",
      "33S/12E-375N/4397_4302_13/PF-SR\n",
      "39N/10E-136N/5195_3388_13/PF-SR\n",
      "54N/22E-198N/7312_3008_13/PF-SR\n",
      "21S/31E-407N/2850_4139_13/PF-SR\n",
      "21S/27E-362N/2832_4366_13/PF-SR\n",
      "21S/19E-299N/2789_4694_13/PF-SR\n",
      "49N/31E-102N/6678_3579_13/PF-SR\n",
      "49N/33E-124N/6688_3456_13/PF-SR\n",
      "30N/27E-30N/4062_3943_13/PF-SR\n",
      "30N/16E-197N/3998_3016_13/PF-SR\n",
      "15N/19E-77N/1973_3709_13/PF-SR\n",
      "15N/25E-155N/2006_3280_13/PF-SR\n",
      "15N/30E-66N/2029_3764_13/PF-SR\n",
      "33N/17E-59N/4421_3800_13/PF-SR\n",
      "33N/18E-52N/4426_3835_13/PF-SR\n",
      "Nombre de dossiers : 75\n"
     ]
    }
   ],
   "source": [
    "def list_subdirectories(directory, max_depth=5):\n",
    "    \"\"\"Affiche les noms des sous-dossiers après 'planet/' jusqu'à une profondeur maximale.\"\"\"\n",
    "    counter = 0\n",
    "    try:\n",
    "        for root, dirs, files in os.walk(directory):\n",
    "            depth = root[len(directory):].count(os.sep)\n",
    "            if depth < max_depth:\n",
    "                for dir_name in dirs:\n",
    "                    relative_path = os.path.join(root, dir_name)\n",
    "            if depth == max_depth-1:\n",
    "                if \"planet/\" and \"PF-SR\" in relative_path:\n",
    "                    print(relative_path.split(\"planet/\")[-1])\n",
    "                    counter += 1\n",
    "    except Exception as e:\n",
    "        print(f\"Erreur : {e}\")\n",
    "    print(f\"Nombre de dossiers : {counter}\")\n",
    "        \n",
    "list_subdirectories(PATH_DATA)"
   ]
  },
  {
   "cell_type": "code",
   "execution_count": null,
   "metadata": {},
   "outputs": [],
   "source": []
  }
 ],
 "metadata": {
  "kernelspec": {
   "display_name": ".env_computer_vision",
   "language": "python",
   "name": "python3"
  },
  "language_info": {
   "codemirror_mode": {
    "name": "ipython",
    "version": 3
   },
   "file_extension": ".py",
   "mimetype": "text/x-python",
   "name": "python",
   "nbconvert_exporter": "python",
   "pygments_lexer": "ipython3",
   "version": "3.10.12"
  }
 },
 "nbformat": 4,
 "nbformat_minor": 2
}
