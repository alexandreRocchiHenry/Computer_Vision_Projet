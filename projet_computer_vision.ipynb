{
 "cells": [
  {
   "cell_type": "markdown",
   "metadata": {},
   "source": []
  },
  {
   "cell_type": "markdown",
   "metadata": {},
   "source": [
    "# **Exploration des données - DynamicEarthNet**\n",
    "## **1. Présentation du contexte et du jeu de données**\n",
    "\n",
    "Dans ce projet, l’objectif principal est la réalisation d’une **segmentation sémantique spatiale** à partir d’images satellites issues de la base de données **DynamicEarthNet**. Cette dernière se compose d’images satellites multispectrales (RGB + proche infrarouge) annotées manuellement pour différents types de couverture terrestre.\n",
    "\n",
    "Le jeu de données se caractérise par :\n",
    "- **Résolution spatiale** : 3 mètres par pixel (chaque image fait 1024x1024 pixels).\n",
    "- **Annotations manuelles précises**, pixel par pixel, classifiant la couverture terrestre en plusieurs classes sémantiques clairement définies.\n",
    "\n",
    "> Source : *DynamicEarthNet Paper, Toker et al. 2022*.\n",
    "\n",
    "---\n",
    "\n"
   ]
  },
  {
   "cell_type": "markdown",
   "metadata": {},
   "source": [
    "La première étape de notre projet à donc été de visualiser et de prendre en main la données. Pour cela deux module ont été crée : [sat_image_reader](src/sat_image_reader.py) et [classes_reader](src/classes_reader.py).\n",
    "\n",
    "Grâçe à cela, nous avons pu analyser diverses images et les prendre en main dans un [notebook](exploration_données_Alexandre.ipynb).\n",
    "Nous avons alors pu comprendre les diverses classes de DynamicEarthNet, leur implémentation (sous 8 bandes à valeurs 0 ou 255 si la classe est présente) et l'évolution temporelle."
   ]
  },
  {
   "cell_type": "markdown",
   "metadata": {},
   "source": [
    "\n",
    "## **2. Classes sémantiques utilisées dans l'exploration**\n",
    "\n",
    "Le jeu de données DynamicEarthNet comporte au total **7 classes sémantiques** différentes :\n",
    "\n",
    "1. **Impervious Surface** – Surfaces imperméables (routes, bâtiments).\n",
    "2. **Forest & Other Vegetation** – Forêt et autres végétations.\n",
    "3. **Soil** – Sols nus ou terres agricoles non cultivées.\n",
    "4. **Agriculture** – Zones agricoles cultivées.\n",
    "5. **Wetlands** – Zones humides.\n",
    "6. **Water** – Plans d’eau.\n",
    "7. **Snow & Ice** – Neige et glace (rare).\n",
    "\n",
    "Mais elles ne sont pas forcèment toutes présente à chaque fois : par exemple dans une zone étudiée du notebook (**10N-123W-45N**), seules **3 classes principales** sont présentes :\n",
    "\n",
    "- **Impervious Surface (bande 1)**\n",
    "- **Forest and Other Vegetation (bande 3)**\n",
    "- **Soil (bande 5)**\n",
    "\n",
    "---\n"
   ]
  },
  {
   "cell_type": "markdown",
   "metadata": {},
   "source": [
    "Nous avons donc pris cela en compte lors de la création de notre [dataloader](src/dataloader.py)."
   ]
  },
  {
   "cell_type": "markdown",
   "metadata": {},
   "source": [
    "\n",
    "## **3. Approche méthodologique d’exploration**\n",
    "\n",
    "### **a. Exploration initiale des fichiers raster (.tif)**\n",
    "\n",
    "L’analyse initiale a consisté à examiner les fichiers raster pour :\n",
    "- Lire les métadonnées (dimensions, nombre de bandes, résolution).\n",
    "- Visualiser les bandes individuellement :\n",
    "  - Classification binaire (valeurs 0 ou 255).\n",
    "  - Identification des pixels appartenant simultanément à plusieurs classes.\n",
    "- Générer des histogrammes confirmant la distribution binaire des pixels.\n",
    "\n",
    "### **b. Validation spatiale avec les fichiers vectoriels (.geojson)**\n",
    "\n",
    "Les fichiers **GeoJSON** ont été utilisés pour valider spatialement les annotations :\n",
    "- Chargement et visualisation des contours géographiques de chaque classe.\n",
    "- Superposition des géométries vectorielles sur les images raster.\n",
    "- Confirmation de la cohérence et de la précision des annotations.\n",
    "\n",
    "---\n"
   ]
  },
  {
   "cell_type": "markdown",
   "metadata": {},
   "source": [
    "\n",
    "## **4. Analyse de la qualité des données (PF-QA)**\n",
    "\n",
    "L’étude des fichiers **PF-QA (Planet Fusion Quality Assurance)** a permis de :\n",
    "- Identifier les pixels basés sur des observations satellites directes vs interpolées.\n",
    "- Vérifier la cohérence spatiale des annotations pour garantir la fiabilité des données d’apprentissage.\n",
    "\n",
    "---\n"
   ]
  },
  {
   "cell_type": "markdown",
   "metadata": {},
   "source": [
    "# **Exploration des fichiers et structuration des données**\n",
    "\n",
    "\n",
    "## **1. Organisation et exploration des fichiers**\n",
    "Le chemin principal des données est défini par `PATH_DATA`, qui contient :\n",
    "- Les images satellites **Planet Fusion** (`planet.10N/planet/10N/`).\n",
    "- Les labels annotés (`labels/labels/` et `dynamicearthnet_test_labels`).\n",
    "\n",
    "L’exploration initiale a permis :\n",
    "- 📂 **D’identifier les fichiers et répertoires disponibles**.\n",
    "- 🏷️ **De compter et comparer les labels d’entraînement et de test**.\n",
    "- 📍 **D’afficher les sous-dossiers Planet contenant les images TIFF** pour une organisation claire des données.\n",
    "\n",
    "---\n",
    "\n",
    "## **2. Construction des DataFrames de labels et images**\n",
    "L’organisation des labels a été systématisée en DataFrames `df_labels_train` et `df_labels_test` :\n",
    "- **Extraction des clés d’identification** pour assurer la correspondance avec les images satellites.\n",
    "- **Identification des labels d’entraînement et de test**.\n",
    "- **Création d’un chemin structuré pour chaque label**.\n",
    "\n",
    "Les images satellites ont été associées aux labels via une fusion avec `df_planet`, permettant de structurer les correspondances entre annotations et images sources.\n",
    "\n",
    "---\n",
    "\n",
    "## **3. Localisation géographique des images**\n",
    "L’analyse de la **localisation des images satellites** a été effectuée en croisant leurs coordonnées avec une base de données mondiale des pays (`ne_110m_admin_0_countries.shp`).\n",
    "\n",
    "- 🌍 **Transformation des coordonnées vers EPSG:4326** (longitude/latitude).\n",
    "- 🗺️ **Détection du pays et du continent** associé à chaque image satellite.\n",
    "- 🔗 **Association des informations géographiques aux métadonnées des images**.\n",
    "\n",
    "---\n",
    "\n",
    "## **4. Vérification de l’alignement des images satellites**\n",
    "Un contrôle d’alignement des images (`ImageAlignementCheck`) a été effectué pour s’assurer de leur qualité, nous avions initialement prévu de faire avec le suivi temporelle mais nous avons ensuite abandonné cette idée :\n",
    "- 📏 **Analyse des décalages moyens et maximaux entre images successives**.\n",
    "- ❌ **Identification des images mal alignées** afin de les exclure du futur entraînement du modèle.\n",
    "\n",
    "Les résultats ont été stockés dans `df_results.csv` et intégrés dans `df_merged_extended` pour une meilleure gestion des images.\n",
    "\n",
    "---\n",
    "\n",
    "\n",
    "L’ensemble de ces étapes garantit une **base de données robuste et de haute qualité** pour l'entraînement du **réseau de neurones de segmentation spatiale**. 🚀\n"
   ]
  },
  {
   "cell_type": "markdown",
   "metadata": {},
   "source": []
  }
 ],
 "metadata": {
  "language_info": {
   "name": "python"
  }
 },
 "nbformat": 4,
 "nbformat_minor": 2
}
